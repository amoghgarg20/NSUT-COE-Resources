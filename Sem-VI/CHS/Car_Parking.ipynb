{
 "cells": [
  {
   "cell_type": "markdown",
   "id": "060f3e5d",
   "metadata": {},
   "source": [
    "#  Task 1: Create a Car Parking Prediction Model \n",
    "\n",
    "## Description:\n",
    "In this, you need to find the Car Park Distance Prediction for Smart Vehicles. Most of the parking lots around the world make sure that the cars are parked in parallel. However many people face difficulties when it comes to parallel parking, especially due to various assumptions one has to make regarding spatial arrangements. A machine learning algorithm needs to be implemented to calculate whether the car would be able to successfully park in the cavity or not, based on the distances measured by the sensor."
   ]
  },
  {
   "cell_type": "markdown",
   "id": "8685c8c8",
   "metadata": {},
   "source": [
    "## Approach: \n",
    "Since there is no relevant dataset on the internet, we have to create our own synthetic dataset. The synthetic dataset contains 3 columns. The description of features is as followed: \n",
    "1. `Car_Size` : The length of the car in meters.\n",
    "2. `Parking_Space` : The space available (in meters) for the car to be parked as detected by the sensor in the smart car.\n",
    "3. `Output` : This is the output feature (binary). `0` indicates that car can not be parked in the available space. `1` indicates that car can be parked in the given space.\n",
    "\n",
    "    More relevant features can also be added in the dataset like whether the car supports power-cutting ability and other relevant specifications of the car in order to make accurate predictions. But for now to keep the model simple, we will be considering only `Car_Size` and `Parking_Space` as input features.\n",
    "\n",
    "We will be creating a classifier from scratch using *Tensorflow* (Neural Networks using Keras) and then use *TensorFlow Lite* to convert the normal ML model into a  Tiny ML Model (compressed form) which can then be embedded on devices with less memory like micro-controllers or egde devices.\n",
    "In our case this Tiny ML Model can be loaded into the micro-controller in the smart car which takes the input from the sensors installed in the car, processes the input and generates the relevant output"
   ]
  },
  {
   "cell_type": "code",
   "execution_count": 1,
   "id": "5c8071b5",
   "metadata": {},
   "outputs": [],
   "source": [
    "# Importing the libraries\n",
    "import pandas as pd\n",
    "import numpy as np\n",
    "import seaborn as sns"
   ]
  },
  {
   "cell_type": "code",
   "execution_count": 2,
   "id": "f1b76edd",
   "metadata": {},
   "outputs": [
    {
     "data": {
      "text/html": [
       "<div>\n",
       "<style scoped>\n",
       "    .dataframe tbody tr th:only-of-type {\n",
       "        vertical-align: middle;\n",
       "    }\n",
       "\n",
       "    .dataframe tbody tr th {\n",
       "        vertical-align: top;\n",
       "    }\n",
       "\n",
       "    .dataframe thead th {\n",
       "        text-align: right;\n",
       "    }\n",
       "</style>\n",
       "<table border=\"1\" class=\"dataframe\">\n",
       "  <thead>\n",
       "    <tr style=\"text-align: right;\">\n",
       "      <th></th>\n",
       "      <th>Car_Size</th>\n",
       "      <th>Parking_Space</th>\n",
       "      <th>Output</th>\n",
       "    </tr>\n",
       "  </thead>\n",
       "  <tbody>\n",
       "    <tr>\n",
       "      <th>0</th>\n",
       "      <td>4.00</td>\n",
       "      <td>5.0</td>\n",
       "      <td>1</td>\n",
       "    </tr>\n",
       "    <tr>\n",
       "      <th>1</th>\n",
       "      <td>5.13</td>\n",
       "      <td>5.0</td>\n",
       "      <td>0</td>\n",
       "    </tr>\n",
       "    <tr>\n",
       "      <th>2</th>\n",
       "      <td>5.27</td>\n",
       "      <td>6.1</td>\n",
       "      <td>1</td>\n",
       "    </tr>\n",
       "    <tr>\n",
       "      <th>3</th>\n",
       "      <td>4.34</td>\n",
       "      <td>4.5</td>\n",
       "      <td>0</td>\n",
       "    </tr>\n",
       "    <tr>\n",
       "      <th>4</th>\n",
       "      <td>4.50</td>\n",
       "      <td>6.0</td>\n",
       "      <td>1</td>\n",
       "    </tr>\n",
       "  </tbody>\n",
       "</table>\n",
       "</div>"
      ],
      "text/plain": [
       "   Car_Size  Parking_Space  Output\n",
       "0      4.00            5.0       1\n",
       "1      5.13            5.0       0\n",
       "2      5.27            6.1       1\n",
       "3      4.34            4.5       0\n",
       "4      4.50            6.0       1"
      ]
     },
     "execution_count": 2,
     "metadata": {},
     "output_type": "execute_result"
    }
   ],
   "source": [
    "# Loading the dataset\n",
    "df = pd.read_excel('Car_Parking.xlsx', header = 0)\n",
    "df.head()"
   ]
  },
  {
   "cell_type": "code",
   "execution_count": 3,
   "id": "a665ac69",
   "metadata": {},
   "outputs": [
    {
     "data": {
      "text/plain": [
       "<AxesSubplot:xlabel='Car_Size', ylabel='Parking_Space'>"
      ]
     },
     "execution_count": 3,
     "metadata": {},
     "output_type": "execute_result"
    },
    {
     "data": {
      "image/png": "[encoded data removed]",
      "text/plain": [
       "<Figure size 432x288 with 1 Axes>"
      ]
     },
     "metadata": {
      "needs_background": "light"
     },
     "output_type": "display_data"
    }
   ],
   "source": [
    "# Plotting the scatter plot of Car_Size vs Parking_Space\n",
    "sns.scatterplot(x = df['Car_Size'], y = df['Parking_Space'], hue = 'Output', data = df)"
   ]
  },
  {
   "cell_type": "code",
   "execution_count": 4,
   "id": "9040d090",
   "metadata": {},
   "outputs": [
    {
     "data": {
      "text/plain": [
       "(30, 3)"
      ]
     },
     "execution_count": 4,
     "metadata": {},
     "output_type": "execute_result"
    }
   ],
   "source": [
    "df.shape"
   ]
  },
  {
   "cell_type": "code",
   "execution_count": 5,
   "id": "52c0c4fe",
   "metadata": {},
   "outputs": [
    {
     "name": "stdout",
     "output_type": "stream",
     "text": [
      "<class 'pandas.core.frame.DataFrame'>\n",
      "RangeIndex: 30 entries, 0 to 29\n",
      "Data columns (total 3 columns):\n",
      " #   Column         Non-Null Count  Dtype  \n",
      "---  ------         --------------  -----  \n",
      " 0   Car_Size       30 non-null     float64\n",
      " 1   Parking_Space  30 non-null     float64\n",
      " 2   Output         30 non-null     int64  \n",
      "dtypes: float64(2), int64(1)\n",
      "memory usage: 848.0 bytes\n"
     ]
    }
   ],
   "source": [
    "df.info()"
   ]
  },
  {
   "cell_type": "code",
   "execution_count": 6,
   "id": "957605b5",
   "metadata": {},
   "outputs": [],
   "source": [
    "# Loading the x AND y features\n",
    "x = df.drop('Output', axis = 1)\n",
    "y = df['Output']"
   ]
  },
  {
   "cell_type": "code",
   "execution_count": 7,
   "id": "61b2293c",
   "metadata": {},
   "outputs": [],
   "source": [
    "from sklearn.model_selection import train_test_split\n",
    "from sklearn.preprocessing import StandardScaler\n",
    "\n",
    "X_train, X_test, y_train, y_test = train_test_split(x, y, test_size=0.2, random_state=42)\n",
    "\n",
    "scaler = StandardScaler()\n",
    "X_train_scaled = scaler.fit_transform(X_train)\n",
    "X_test_scaled = scaler.transform(X_test)"
   ]
  },
  {
   "cell_type": "code",
   "execution_count": 8,
   "id": "0a29991e",
   "metadata": {},
   "outputs": [
    {
     "name": "stderr",
     "output_type": "stream",
     "text": [
      "C:\\Python310\\lib\\site-packages\\keras\\optimizers\\optimizer_v2\\adam.py:110: UserWarning: The `lr` argument is deprecated, use `learning_rate` instead.\n",
      "  super(Adam, self).__init__(name, **kwargs)\n"
     ]
    },
    {
     "name": "stdout",
     "output_type": "stream",
     "text": [
      "Epoch 1/10\n",
      "1/1 [==============================] - 1s 996ms/step - loss: 0.7615 - accuracy: 0.4583 - precision: 0.5000 - recall: 0.8462\n",
      "Epoch 2/10\n",
      "1/1 [==============================] - 0s 5ms/step - loss: 0.5570 - accuracy: 0.7083 - precision: 0.8000 - recall: 0.6154\n",
      "Epoch 3/10\n",
      "1/1 [==============================] - 0s 5ms/step - loss: 0.4150 - accuracy: 0.8750 - precision: 0.8571 - recall: 0.9231\n",
      "Epoch 4/10\n",
      "1/1 [==============================] - 0s 5ms/step - loss: 0.3003 - accuracy: 0.9583 - precision: 0.9286 - recall: 1.0000\n",
      "Epoch 5/10\n",
      "1/1 [==============================] - 0s 6ms/step - loss: 0.2184 - accuracy: 0.9583 - precision: 0.9286 - recall: 1.0000\n",
      "Epoch 6/10\n",
      "1/1 [==============================] - 0s 7ms/step - loss: 0.1730 - accuracy: 0.9583 - precision: 0.9286 - recall: 1.0000\n",
      "Epoch 7/10\n",
      "1/1 [==============================] - 0s 7ms/step - loss: 0.1480 - accuracy: 0.9583 - precision: 0.9286 - recall: 1.0000\n",
      "Epoch 8/10\n",
      "1/1 [==============================] - 0s 8ms/step - loss: 0.1344 - accuracy: 0.9583 - precision: 0.9286 - recall: 1.0000\n",
      "Epoch 9/10\n",
      "1/1 [==============================] - 0s 5ms/step - loss: 0.1263 - accuracy: 0.9583 - precision: 0.9286 - recall: 1.0000\n",
      "Epoch 10/10\n",
      "1/1 [==============================] - 0s 6ms/step - loss: 0.1201 - accuracy: 0.9583 - precision: 0.9286 - recall: 1.0000\n"
     ]
    }
   ],
   "source": [
    "import tensorflow as tf\n",
    "tf.random.set_seed(42)\n",
    "\n",
    "model = tf.keras.Sequential([\n",
    "    tf.keras.layers.Dense(128, activation='relu'),\n",
    "    tf.keras.layers.Dense(1, activation='sigmoid')])\n",
    "\n",
    "model.compile(\n",
    "    loss=tf.keras.losses.binary_crossentropy,\n",
    "    optimizer=tf.keras.optimizers.Adam(lr=0.05),\n",
    "    metrics=[\n",
    "        tf.keras.metrics.BinaryAccuracy(name='accuracy'),\n",
    "        tf.keras.metrics.Precision(name='precision'),\n",
    "        tf.keras.metrics.Recall(name='recall')\n",
    "    ]\n",
    ")\n",
    "#We kept track of loss, accuracy, precision, and recall during training, and saved them to history. \n",
    "#We can now visualize these metrics to get a sense of how the model is doing\n",
    "history = model.fit(X_train_scaled, y_train, epochs=10)"
   ]
  },
  {
   "cell_type": "code",
   "execution_count": 9,
   "id": "721d2f23",
   "metadata": {},
   "outputs": [
    {
     "data": {
      "image/png": "[encoded data removed]",
      "text/plain": [
       "<Figure size 720x360 with 1 Axes>"
      ]
     },
     "metadata": {
      "needs_background": "light"
     },
     "output_type": "display_data"
    }
   ],
   "source": [
    "import matplotlib.pyplot as plt\n",
    "from matplotlib import rcParams\n",
    "\n",
    "rcParams['figure.figsize'] = (10,5)\n",
    "rcParams['axes.spines.top'] = False\n",
    "rcParams['axes.spines.right'] = False\n",
    "plt.plot(\n",
    "    np.arange(1, 11), \n",
    "    history.history['loss'], label='Loss'\n",
    ")\n",
    "plt.plot(\n",
    "    np.arange(1, 11), \n",
    "    history.history['accuracy'], label='Accuracy'\n",
    ")\n",
    "plt.plot(\n",
    "    np.arange(1, 11), \n",
    "    history.history['precision'], label='Precision'\n",
    ")\n",
    "plt.plot(\n",
    "    np.arange(1, 11), \n",
    "    history.history['recall'], label='Recall'\n",
    ")\n",
    "plt.title('Evaluation metrics', size=20)\n",
    "plt.xlabel('Epoch', size=14)\n",
    "plt.legend();"
   ]
  },
  {
   "cell_type": "code",
   "execution_count": 10,
   "id": "6270a83e",
   "metadata": {},
   "outputs": [
    {
     "name": "stdout",
     "output_type": "stream",
     "text": [
      "INFO:tensorflow:Assets written to: C:\\Users\\AMOGH GARG\\AppData\\Local\\Temp\\tmp935heenk\\assets\n"
     ]
    }
   ],
   "source": [
    "# Convert the model.\n",
    "converter = tf.lite.TFLiteConverter.from_keras_model(model)\n",
    "tflite_model = converter.convert()\n",
    "\n",
    "# Save the model.\n",
    "with open('car_model.tflite', 'wb') as f:\n",
    "  f.write(tflite_model)"
   ]
  },
  {
   "cell_type": "markdown",
   "id": "1fd2dfa0",
   "metadata": {},
   "source": [
    "The model can further be improved if we are able to provide as input a more comprehensive dataset. Also, more layers can be added to neural-network, but since the dataset is small as of now we are not adding more layers to avoid over-fitting.\n",
    "\n",
    "`car_model.tflite` can be loaded and used for inference with the help of following documentation: [Inference Guide](https://www.tensorflow.org/lite/guide/inference)\n",
    "\n",
    "*Inference refers to the process of executing a TensorFlow Lite model on-device to make predictions based on input data.*"
   ]
  },
  {
   "cell_type": "markdown",
   "id": "9223cd61",
   "metadata": {},
   "source": [
    "## Submitted By: Amogh Garg (2020UCO1688)"
   ]
  }
 ],
 "metadata": {
  "kernelspec": {
   "display_name": "Python 3 (ipykernel)",
   "language": "python",
   "name": "python3"
  },
  "language_info": {
   "codemirror_mode": {
    "name": "ipython",
    "version": 3
   },
   "file_extension": ".py",
   "mimetype": "text/x-python",
   "name": "python",
   "nbconvert_exporter": "python",
   "pygments_lexer": "ipython3",
   "version": "3.10.0"
  }
 },
 "nbformat": 4,
 "nbformat_minor": 5
}
