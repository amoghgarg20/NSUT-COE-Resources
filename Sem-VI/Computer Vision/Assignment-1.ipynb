{
 "cells": [
  {
   "cell_type": "markdown",
   "id": "2a476eaa",
   "metadata": {},
   "source": [
    "# **COMPUTER VISION ASSIGNMENT-1**\n",
    "## AMOGH GARG - 2020UCO1688"
   ]
  },
  {
   "cell_type": "markdown",
   "id": "30acc483",
   "metadata": {},
   "source": [
    "`Importing Libraries`"
   ]
  },
  {
   "cell_type": "code",
   "execution_count": 1,
   "id": "9b2ebfe2",
   "metadata": {},
   "outputs": [],
   "source": [
    "import cv2\n",
    "import numpy as np\n",
    "import matplotlib.pyplot as plt"
   ]
  },
  {
   "cell_type": "markdown",
   "id": "8c486dfa",
   "metadata": {},
   "source": [
    "`Task-1 :` Read an image into a variable\n",
    "\n",
    "`Task-2 :` Display that image"
   ]
  },
  {
   "cell_type": "code",
   "execution_count": 1,
   "id": "42dd0fcf",
   "metadata": {},
   "outputs": [
    {
     "ename": "NameError",
     "evalue": "name 'cv2' is not defined",
     "output_type": "error",
     "traceback": [
      "\u001b[1;31m---------------------------------------------------------------------------\u001b[0m",
      "\u001b[1;31mNameError\u001b[0m                                 Traceback (most recent call last)",
      "\u001b[1;32m~\\AppData\\Local\\Temp/ipykernel_2680/914514152.py\u001b[0m in \u001b[0;36m<module>\u001b[1;34m\u001b[0m\n\u001b[1;32m----> 1\u001b[1;33m \u001b[0mimg\u001b[0m \u001b[1;33m=\u001b[0m \u001b[0mcv2\u001b[0m\u001b[1;33m.\u001b[0m\u001b[0mimread\u001b[0m\u001b[1;33m(\u001b[0m\u001b[1;34m\"Img-3.jfif\"\u001b[0m\u001b[1;33m,\u001b[0m\u001b[0mcv2\u001b[0m\u001b[1;33m.\u001b[0m\u001b[0mIMREAD_COLOR\u001b[0m\u001b[1;33m)\u001b[0m\u001b[1;33m\u001b[0m\u001b[1;33m\u001b[0m\u001b[0m\n\u001b[0m\u001b[0;32m      2\u001b[0m \u001b[0mimg\u001b[0m \u001b[1;33m=\u001b[0m \u001b[0mcv2\u001b[0m\u001b[1;33m.\u001b[0m\u001b[0mresize\u001b[0m\u001b[1;33m(\u001b[0m\u001b[0mimg\u001b[0m\u001b[1;33m,\u001b[0m \u001b[1;33m(\u001b[0m\u001b[1;36m700\u001b[0m\u001b[1;33m,\u001b[0m\u001b[1;36m700\u001b[0m\u001b[1;33m)\u001b[0m\u001b[1;33m)\u001b[0m\u001b[1;33m\u001b[0m\u001b[1;33m\u001b[0m\u001b[0m\n\u001b[0;32m      3\u001b[0m \u001b[0mcv2\u001b[0m\u001b[1;33m.\u001b[0m\u001b[0mimshow\u001b[0m\u001b[1;33m(\u001b[0m\u001b[1;34m'Colored Image of Butterfly'\u001b[0m\u001b[1;33m,\u001b[0m \u001b[0mimg\u001b[0m\u001b[1;33m)\u001b[0m\u001b[1;33m\u001b[0m\u001b[1;33m\u001b[0m\u001b[0m\n\u001b[0;32m      4\u001b[0m \u001b[0mcv2\u001b[0m\u001b[1;33m.\u001b[0m\u001b[0mwaitKey\u001b[0m\u001b[1;33m(\u001b[0m\u001b[1;36m0\u001b[0m\u001b[1;33m)\u001b[0m\u001b[1;33m\u001b[0m\u001b[1;33m\u001b[0m\u001b[0m\n\u001b[0;32m      5\u001b[0m \u001b[0mcv2\u001b[0m\u001b[1;33m.\u001b[0m\u001b[0mdestroyAllWindows\u001b[0m\u001b[1;33m(\u001b[0m\u001b[1;33m)\u001b[0m\u001b[1;33m\u001b[0m\u001b[1;33m\u001b[0m\u001b[0m\n",
      "\u001b[1;31mNameError\u001b[0m: name 'cv2' is not defined"
     ]
    }
   ],
   "source": [
    "img = cv2.imread(\"Img-3.jfif\",cv2.IMREAD_COLOR)\n",
    "img = cv2.resize(img, (700,700))\n",
    "cv2.imshow('Colored Image of Butterfly', img)\n",
    "cv2.waitKey(0)\n",
    "cv2.destroyAllWindows()"
   ]
  },
  {
   "cell_type": "markdown",
   "id": "2e344fbb",
   "metadata": {},
   "source": [
    "`Task-3 :` Convert the image into grayscale"
   ]
  },
  {
   "cell_type": "code",
   "execution_count": 3,
   "id": "89838994",
   "metadata": {},
   "outputs": [],
   "source": [
    "img_gs = cv2.imread(\"Img-1.jpg\",cv2.IMREAD_GRAYSCALE)\n",
    "img_gs = cv2.resize(img_gs, (700,700))\n",
    "cv2.imshow('Grayscale Image of Butterfly', img_gs)\n",
    "cv2.waitKey(0)\n",
    "cv2.destroyAllWindows()"
   ]
  },
  {
   "cell_type": "markdown",
   "id": "c2b6d3a4",
   "metadata": {},
   "source": [
    "`Task-4 :` Check the height and width of that image"
   ]
  },
  {
   "cell_type": "code",
   "execution_count": 4,
   "id": "891126ac",
   "metadata": {},
   "outputs": [
    {
     "data": {
      "text/plain": [
       "(700, 700)"
      ]
     },
     "execution_count": 4,
     "metadata": {},
     "output_type": "execute_result"
    }
   ],
   "source": [
    "img_gs.shape"
   ]
  },
  {
   "cell_type": "markdown",
   "id": "7656a634",
   "metadata": {},
   "source": [
    "`Task-5 :` Extract RGB channels from the image"
   ]
  },
  {
   "cell_type": "code",
   "execution_count": 5,
   "id": "f8cdf3b0",
   "metadata": {},
   "outputs": [
    {
     "data": {
      "text/plain": [
       "True"
      ]
     },
     "execution_count": 5,
     "metadata": {},
     "output_type": "execute_result"
    }
   ],
   "source": [
    "# extract red channel\n",
    "red_channel = img[:,:,2]\n",
    "\n",
    "# create empty image with same shape as that of src image\n",
    "red_img = np.zeros(img.shape)\n",
    "\n",
    "#assign the red channel of src to empty image\n",
    "red_img[:,:,2] = red_channel\n",
    "\n",
    "#save image\n",
    "cv2.imwrite('Red_Img-1.jpg',red_img) "
   ]
  },
  {
   "cell_type": "code",
   "execution_count": 6,
   "id": "50482574",
   "metadata": {},
   "outputs": [
    {
     "data": {
      "text/plain": [
       "True"
      ]
     },
     "execution_count": 6,
     "metadata": {},
     "output_type": "execute_result"
    }
   ],
   "source": [
    "# extract green channel\n",
    "green_channel = img[:,:,1]\n",
    "\n",
    "# create empty image with same shape as that of src image\n",
    "green_img = np.zeros(img.shape)\n",
    "\n",
    "#assign the red channel of src to empty image\n",
    "green_img[:,:,1] = green_channel\n",
    "\n",
    "#save image\n",
    "cv2.imwrite('Green_Img-1.jpg',green_img) "
   ]
  },
  {
   "cell_type": "code",
   "execution_count": 7,
   "id": "da9e041c",
   "metadata": {},
   "outputs": [
    {
     "data": {
      "text/plain": [
       "True"
      ]
     },
     "execution_count": 7,
     "metadata": {},
     "output_type": "execute_result"
    }
   ],
   "source": [
    "# extract blue channel\n",
    "blue_channel = img[:,:,0]\n",
    "\n",
    "# create empty image with same shape as that of src image\n",
    "blue_img = np.zeros(img.shape)\n",
    "\n",
    "#assign the red channel of src to empty image\n",
    "blue_img[:,:,0] = blue_channel\n",
    "\n",
    "#save image\n",
    "cv2.imwrite('Blue_Img-1.jpg',blue_img) "
   ]
  },
  {
   "cell_type": "markdown",
   "id": "b6658e76",
   "metadata": {},
   "source": [
    "`Task-6 :` Extract middle 100 pixels from the image"
   ]
  },
  {
   "cell_type": "code",
   "execution_count": 8,
   "id": "e631836a",
   "metadata": {},
   "outputs": [],
   "source": [
    "# Extracting the middle hundred pixels\n",
    "cropped_img = img[300:400,300:400]\n",
    "cv2.imshow('Center Image', cropped_img)\n",
    "cv2.waitKey(0)\n",
    "cv2.destroyAllWindows()"
   ]
  },
  {
   "cell_type": "markdown",
   "id": "252073c4",
   "metadata": {},
   "source": [
    "`Task-7 :`For the image, create one more image. Keep every 10th pixel in the horizontal direction and 20th pixel in vertical direction. Display the output matrix in image form."
   ]
  },
  {
   "cell_type": "code",
   "execution_count": 9,
   "id": "1e510785",
   "metadata": {},
   "outputs": [],
   "source": [
    "# Extracting every 10th pixel in horizontal and every 20th pixel in vertical direction\n",
    "modified_img = img[::10,::20]\n",
    "cv2.imshow('Modified Image', modified_img)\n",
    "cv2.waitKey(0)\n",
    "cv2.destroyAllWindows()"
   ]
  },
  {
   "cell_type": "markdown",
   "id": "977a7ee4",
   "metadata": {},
   "source": [
    "`Task-8 :`Flip the image vertically"
   ]
  },
  {
   "cell_type": "code",
   "execution_count": 10,
   "id": "ac2f791d",
   "metadata": {},
   "outputs": [],
   "source": [
    "flipped_img = cv2.flip(img,0)\n",
    "cv2.imshow('Flipped Image', flipped_img)\n",
    "cv2.waitKey(0)\n",
    "cv2.destroyAllWindows()"
   ]
  },
  {
   "cell_type": "markdown",
   "id": "7378dd0d",
   "metadata": {},
   "source": [
    "`Task-9 :`Draw the histogram plot of pixel values."
   ]
  },
  {
   "cell_type": "code",
   "execution_count": 11,
   "id": "1d96d6e6",
   "metadata": {},
   "outputs": [
    {
     "data": {
      "image/png": "[encoded data removed]",
      "text/plain": [
       "<Figure size 432x288 with 1 Axes>"
      ]
     },
     "metadata": {
      "needs_background": "light"
     },
     "output_type": "display_data"
    }
   ],
   "source": [
    "color = ('b','g','r')\n",
    "for i,col in enumerate(color):\n",
    "    histr = cv2.calcHist([img],[i],None,[256],[0,256])\n",
    "    plt.plot(histr,color = col)\n",
    "    plt.xlim([0,256])\n",
    "plt.title('Histogram Plot of Pixel Values')\n",
    "plt.show()"
   ]
  },
  {
   "cell_type": "code",
   "execution_count": null,
   "id": "3c8c8ef0",
   "metadata": {},
   "outputs": [],
   "source": []
  }
 ],
 "metadata": {
  "kernelspec": {
   "display_name": "Python 3 (ipykernel)",
   "language": "python",
   "name": "python3"
  },
  "language_info": {
   "codemirror_mode": {
    "name": "ipython",
    "version": 3
   },
   "file_extension": ".py",
   "mimetype": "text/x-python",
   "name": "python",
   "nbconvert_exporter": "python",
   "pygments_lexer": "ipython3",
   "version": "3.10.0"
  }
 },
 "nbformat": 4,
 "nbformat_minor": 5
}
