{
 "cells": [
  {
   "cell_type": "markdown",
   "id": "8305b73d",
   "metadata": {},
   "source": [
    "# COMPUTER VISION ASSIGNMENT-2\n",
    "## AMOGH GARG - 2020UCO1688\n",
    "\n",
    "`Question-1` : Take a patch of size 5*5 with random intensity values. Apply the x-kernel [-1,0,1] and y-kernel [-1,0,1]^T to get the first order gradient in both the dimensions."
   ]
  },
  {
   "cell_type": "code",
   "execution_count": 1,
   "id": "ade7079b",
   "metadata": {},
   "outputs": [
    {
     "name": "stdout",
     "output_type": "stream",
     "text": [
      "Patch:\n",
      " [[185 208  36 162 243]\n",
      " [ 14  68 188 151 178]\n",
      " [202 169 110  59  24]\n",
      " [195  29 180  20 201]\n",
      " [119 239  33  81 124]]\n",
      "\n",
      "X-gradient:\n",
      " [[-208  149   46 -207  162]\n",
      " [ -68 -174  -83   10  151]\n",
      " [-169   92  110   86   59]\n",
      " [ -29   15    9  -21   20]\n",
      " [-239   86  158  -91   81]]\n",
      "\n",
      "Y-gradient:\n",
      " [[ -14  -68 -188 -151 -178]\n",
      " [ -17   39  -74  103  219]\n",
      " [-181   39    8  131  -23]\n",
      " [  83  -70   77  -22 -100]\n",
      " [ 195   29  180   20  201]]\n"
     ]
    }
   ],
   "source": [
    "import numpy as np\n",
    "\n",
    "# create a 5x5 patch with random intensity values\n",
    "patch = [[0,0,1,4,9],[1,0,0,1,11],[1,4,9,12,16],[3,8,11,14,16],[8,10,15,16,20]]\n",
    "\n",
    "# apply x-kernel [-1,0,1]\n",
    "x_kernel = np.array([-1, 0, 1])\n",
    "x_gradient = np.apply_along_axis(lambda m: np.convolve(m, x_kernel, mode='same'), axis=1, arr=patch)\n",
    "\n",
    "# apply y-kernel [-1,0,1]^T\n",
    "y_kernel = np.array([-1, 0, 1]).reshape((3, 1))\n",
    "y_gradient = np.apply_along_axis(lambda m: np.convolve(m, y_kernel.flatten(), mode='same'), axis=0, arr=patch)\n",
    "\n",
    "print(\"Patch:\\n\", patch)\n",
    "print(\"\\nX-gradient:\\n\", x_gradient)\n",
    "print(\"\\nY-gradient:\\n\", y_gradient)"
   ]
  },
  {
   "cell_type": "markdown",
   "id": "958be006",
   "metadata": {},
   "source": [
    "`Question-2` : Compute the Harris matrix from these computed gradients."
   ]
  },
  {
   "cell_type": "code",
   "execution_count": 2,
   "id": "db710049",
   "metadata": {},
   "outputs": [
    {
     "name": "stdout",
     "output_type": "stream",
     "text": [
      "Harris Matrix:\n",
      "[[100.76348767  74.52315352]\n",
      " [ 74.52315352  77.6409883 ]]\n"
     ]
    }
   ],
   "source": [
    "# Define the patch of size 5x5 with random intensity values\n",
    "patch = [[0,0,1,4,9],[1,0,0,1,11],[1,4,9,12,16],[3,8,11,14,16],[8,10,15,16,20]]\n",
    "\n",
    "# Compute the first order gradients in x and y directions using the Sobel operator\n",
    "Ix = np.gradient(patch, axis=0)\n",
    "Iy = np.gradient(patch, axis=1)\n",
    "\n",
    "# Compute the elements of the structure tensor using a Gaussian window as the weight function\n",
    "sigma = 1.0  # standard deviation of the Gaussian window\n",
    "weight = np.array([[np.exp(-((i-2)**2 + (j-2)**2) / (2*sigma**2)) for j in range(5)] for i in range(5)])\n",
    "M11 = weight * Ix**2\n",
    "M12 = weight * Ix * Iy\n",
    "M22 = weight * Iy**2\n",
    "\n",
    "# Compute the Harris matrix by summing over the structure tensors of all pixels\n",
    "H = np.zeros((2, 2))\n",
    "for i in range(5):\n",
    "    for j in range(5):\n",
    "        H += np.array([[M11[i,j], M12[i,j]], [M12[i,j], M22[i,j]]])\n",
    "\n",
    "print(\"Harris Matrix:\")\n",
    "print(H)"
   ]
  },
  {
   "cell_type": "markdown",
   "id": "24c1260f",
   "metadata": {},
   "source": [
    "`Question-3` : Compute the Eigen values and the Eigen vectors for the computed Harris matrix."
   ]
  },
  {
   "cell_type": "code",
   "execution_count": 5,
   "id": "4b932b46",
   "metadata": {},
   "outputs": [
    {
     "name": "stdout",
     "output_type": "stream",
     "text": [
      "Eigenvalues: [170.23681998  13.76318002]\n",
      "Eigenvectors: [[ 0.95342256 -0.3016379 ]\n",
      " [ 0.3016379   0.95342256]]\n"
     ]
    }
   ],
   "source": [
    "# Define the Harris matrix\n",
    "\n",
    "# Compute the eigenvalues and eigenvectors\n",
    "eigvals, eigvecs = np.linalg.eig(H)\n",
    "\n",
    "# Print the results\n",
    "print(\"Eigenvalues:\", eigvals)\n",
    "print(\"Eigenvectors:\", eigvecs)"
   ]
  },
  {
   "cell_type": "markdown",
   "id": "243eb2b2",
   "metadata": {},
   "source": [
    "`Question-4` : Based on the computed Eigen values of the Harris matrix, identify whether the output patch is, an edge, a corner, or a flat surface.\n",
    "\n",
    "Since both eigen values are large (>>0) therefore the patch corresponds to a **corner**."
   ]
  }
 ],
 "metadata": {
  "kernelspec": {
   "display_name": "Python 3 (ipykernel)",
   "language": "python",
   "name": "python3"
  },
  "language_info": {
   "codemirror_mode": {
    "name": "ipython",
    "version": 3
   },
   "file_extension": ".py",
   "mimetype": "text/x-python",
   "name": "python",
   "nbconvert_exporter": "python",
   "pygments_lexer": "ipython3",
   "version": "3.10.0"
  }
 },
 "nbformat": 4,
 "nbformat_minor": 5
}
