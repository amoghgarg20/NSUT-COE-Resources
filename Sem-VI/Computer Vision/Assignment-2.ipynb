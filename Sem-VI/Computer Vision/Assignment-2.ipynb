{
 "cells": [
  {
   "cell_type": "markdown",
   "id": "d32f9288",
   "metadata": {},
   "source": [
    "# **COMPUTER VISION ASSIGNMENT-2**\n",
    "## **AMOGH GARG - 2020UCO1688**\n",
    "**IMPORTING LIBRARIES**"
   ]
  },
  {
   "cell_type": "code",
   "execution_count": 2,
   "id": "4fd95dd6",
   "metadata": {},
   "outputs": [],
   "source": [
    "import cv2\n",
    "import numpy as np\n",
    "import matplotlib.pyplot as plt"
   ]
  },
  {
   "cell_type": "code",
   "execution_count": 3,
   "id": "c17eba03",
   "metadata": {},
   "outputs": [],
   "source": [
    "img = cv2.imread(\"Img-1.jpg\",cv2.IMREAD_COLOR)\n",
    "img = cv2.resize(img, (500,500))\n",
    "cv2.imshow('Colored Image of Butterfly', img)\n",
    "cv2.waitKey(0)\n",
    "cv2.destroyAllWindows()"
   ]
  },
  {
   "cell_type": "markdown",
   "id": "fa0335a6",
   "metadata": {},
   "source": [
    "`Task - 1` : Perform linear filtering on an image."
   ]
  },
  {
   "cell_type": "code",
   "execution_count": 4,
   "id": "d70b243f",
   "metadata": {},
   "outputs": [],
   "source": [
    "img_blur = cv2.blur(src=img, ksize=(5,5)) # Using the blur function to blur an image where ksize is the kernel size\n",
    " \n",
    "# Display using cv2.imshow()\n",
    "cv2.imshow('Original', img)\n",
    "cv2.imshow('Blurred', img_blur)\n",
    " \n",
    "cv2.waitKey()\n",
    "cv2.imwrite('Img_Blur-1.jpg', img_blur)\n",
    "cv2.destroyAllWindows()"
   ]
  },
  {
   "cell_type": "markdown",
   "id": "2cbbc9c3",
   "metadata": {},
   "source": [
    "`Task - 2` : Perform Gaussian Filtering on an image."
   ]
  },
  {
   "cell_type": "code",
   "execution_count": 5,
   "id": "e0b14883",
   "metadata": {},
   "outputs": [],
   "source": [
    "# sigmaX is Gaussian Kernel standard deviation \n",
    "# ksize is kernel size\n",
    "gaussian_blur = cv2.GaussianBlur(src=img, ksize=(5,5),sigmaX=0, sigmaY=0)\n",
    " \n",
    "cv2.imshow('Original', img)\n",
    "cv2.imshow('Gaussian Blurred', gaussian_blur)\n",
    "     \n",
    "cv2.waitKey()\n",
    "cv2.imwrite('Img_gaussian_blur.jpg', gaussian_blur)\n",
    "cv2.destroyAllWindows()"
   ]
  },
  {
   "cell_type": "markdown",
   "id": "ab760600",
   "metadata": {},
   "source": [
    "`Task - 3` : Compare the result of linear filter and gaussian filter by extracting a small patch from the output images."
   ]
  },
  {
   "cell_type": "code",
   "execution_count": 6,
   "id": "574b680c",
   "metadata": {},
   "outputs": [],
   "source": [
    "from sklearn.feature_extraction import image\n",
    "patches_blur = image.extract_patches_2d(img_blur, (5,5))\n",
    "patches_gauss = image.extract_patches_2d(gaussian_blur, (5,5))\n",
    "cv2.imshow('Linear Patch', patches_blur[50])\n",
    "cv2.imshow('Gaussian Patch', patches_gauss[50])\n",
    "cv2.waitKey()\n",
    "cv2.destroyAllWindows()\n",
    "# (Number of Patches, Height, Width, Number of Channels)\n",
    "#print('Patches shape: {}'.format(patches.shape))"
   ]
  },
  {
   "cell_type": "markdown",
   "id": "05dbd124",
   "metadata": {},
   "source": [
    "`Task - 4` : Perform scaling, rotation and translation on an image."
   ]
  },
  {
   "cell_type": "code",
   "execution_count": 7,
   "id": "8f293353",
   "metadata": {},
   "outputs": [],
   "source": [
    "scale_img = cv2.resize(img,None,fx=0.5, fy=0.5, interpolation = cv2.INTER_CUBIC)\n",
    "cv2.imshow('Scaled Image', scale_img)    \n",
    "cv2.waitKey()\n",
    "cv2.destroyAllWindows()"
   ]
  },
  {
   "cell_type": "code",
   "execution_count": 8,
   "id": "e835cff9",
   "metadata": {},
   "outputs": [],
   "source": [
    "num_rows, num_cols = img.shape[:2]\n",
    "translation_matrix = np.float32([ [1,0,70], [0,1,110] ])\n",
    "trans_img = cv2.warpAffine(img, translation_matrix, (num_cols, num_rows), cv2.INTER_LINEAR)\n",
    "cv2.imshow('Translated Image', trans_img)\n",
    "cv2.waitKey()\n",
    "cv2.destroyAllWindows()"
   ]
  },
  {
   "cell_type": "code",
   "execution_count": 9,
   "id": "0fa18230",
   "metadata": {},
   "outputs": [],
   "source": [
    "rotated_img = cv2.warpAffine(img, cv2.getRotationMatrix2D((num_cols/2, num_rows/2), 30, 0.6), (num_cols, num_rows))\n",
    "cv2.imshow('Rotated Image', rotated_img)\n",
    "cv2.waitKey()\n",
    "cv2.destroyAllWindows()"
   ]
  },
  {
   "cell_type": "markdown",
   "id": "5355dd04",
   "metadata": {},
   "source": [
    "`Task - 5` : Perform Affine transformation on an image."
   ]
  },
  {
   "cell_type": "code",
   "execution_count": 10,
   "id": "068c7603",
   "metadata": {},
   "outputs": [],
   "source": [
    "src_points = np.float32([[0,0], [num_cols-1,0], [0,num_rows-1]])\n",
    "dst_points = np.float32([[0,0], [int(0.6*(num_cols-1)),0], [int(0.4*(num_cols-1)),num_rows-1]])\n",
    "matrix = cv2.getAffineTransform(src_points, dst_points)\n",
    "img_afftran = cv2.warpAffine(img, matrix, (num_cols,num_rows))\n",
    "cv2.imshow('Affine Transformation',img_afftran)\n",
    "cv2.waitKey()\n",
    "cv2.destroyAllWindows()"
   ]
  },
  {
   "cell_type": "markdown",
   "id": "8c144b72",
   "metadata": {},
   "source": [
    "`Task - 6` : Apply median filter on an image."
   ]
  },
  {
   "cell_type": "code",
   "execution_count": 11,
   "id": "99b8522a",
   "metadata": {},
   "outputs": [],
   "source": [
    "median_img = cv2.medianBlur(src=img, ksize=5)\n",
    "cv2.imshow('Median Filter', median_img)   \n",
    "cv2.waitKey()\n",
    "cv2.destroyAllWindows()"
   ]
  },
  {
   "cell_type": "markdown",
   "id": "4141b397",
   "metadata": {},
   "source": [
    "`Task - 7` : What will be the impact of increasing the size of filter on the output image?"
   ]
  },
  {
   "cell_type": "markdown",
   "id": "d46d7ac4",
   "metadata": {},
   "source": [
    "Increasing the size of a filter in image processing refers to increasing the dimensions of the kernel used in a convolution operation. This has the effect of expanding the scope of the filter, allowing it to cover more pixels in the image and therefore extract more information.\n",
    "\n",
    "However, increasing the size of the filter can also result in loss of resolution in the output image. This is because the larger filter will blur the image more and cause information to be lost. Additionally, increasing the size of the filter can also slow down the processing time and increase computational complexity.\n",
    "\n",
    "It is generally a trade-off between the degree of blurring and the amount of information that is preserved. The ideal size of the filter will depend on the specifics of the image processing task and the desired outcome."
   ]
  },
  {
   "cell_type": "code",
   "execution_count": null,
   "id": "0c4b20c2",
   "metadata": {},
   "outputs": [],
   "source": []
  }
 ],
 "metadata": {
  "kernelspec": {
   "display_name": "Python 3 (ipykernel)",
   "language": "python",
   "name": "python3"
  },
  "language_info": {
   "codemirror_mode": {
    "name": "ipython",
    "version": 3
   },
   "file_extension": ".py",
   "mimetype": "text/x-python",
   "name": "python",
   "nbconvert_exporter": "python",
   "pygments_lexer": "ipython3",
   "version": "3.10.0"
  }
 },
 "nbformat": 4,
 "nbformat_minor": 5
}
