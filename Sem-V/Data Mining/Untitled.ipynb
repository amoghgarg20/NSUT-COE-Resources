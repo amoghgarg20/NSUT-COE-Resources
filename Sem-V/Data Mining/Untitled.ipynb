{
 "cells": [
  {
   "cell_type": "code",
   "execution_count": 10,
   "id": "e8bbf0f4",
   "metadata": {},
   "outputs": [
    {
     "name": "stdout",
     "output_type": "stream",
     "text": [
      "    xcord  ycord\n",
      "p1      0      2\n",
      "p2      2      0\n",
      "p3      3      1\n",
      "p4      5      1\n"
     ]
    }
   ],
   "source": [
    "import pandas as pd\n",
    "from scipy.spatial import distance_matrix\n",
    "from scipy.spatial import distance\n",
    "    \n",
    "data = [[0,2], [2,0], [3,1],[5,1]]\n",
    "pts = ['p1', 'p2', 'p3','p4']\n",
    "df = pd.DataFrame(data, columns=['xcord', 'ycord'], index=pts)\n",
    "print(df)"
   ]
  },
  {
   "cell_type": "code",
   "execution_count": 11,
   "id": "2e035250",
   "metadata": {},
   "outputs": [
    {
     "name": "stdout",
     "output_type": "stream",
     "text": [
      "          p1        p2        p3        p4\n",
      "p1  0.000000  2.828427  3.162278  5.099020\n",
      "p2  2.828427  0.000000  1.414214  3.162278\n",
      "p3  3.162278  1.414214  0.000000  2.000000\n",
      "p4  5.099020  3.162278  2.000000  0.000000\n"
     ]
    }
   ],
   "source": [
    "print(pd.DataFrame(distance_matrix(df.values, df.values), index=df.index, columns=df.index))"
   ]
  },
  {
   "cell_type": "code",
   "execution_count": 16,
   "id": "52367938",
   "metadata": {},
   "outputs": [
    {
     "name": "stdout",
     "output_type": "stream",
     "text": [
      "          p1        p2        p3        p4\n",
      "p1  9.165151  9.165151  9.165151  9.165151\n",
      "p2  9.165151  9.165151  9.165151  9.165151\n",
      "p3  9.165151  9.165151  9.165151  9.165151\n",
      "p4  9.165151  9.165151  9.165151  9.165151\n"
     ]
    }
   ],
   "source": [
    "# print(pd.DataFrame(distance.euclidean([0,2], [2,8], [3,2]), index=df.index, columns=df.index))"
   ]
  },
  {
   "cell_type": "code",
   "execution_count": null,
   "id": "78997144",
   "metadata": {},
   "outputs": [],
   "source": []
  }
 ],
 "metadata": {
  "kernelspec": {
   "display_name": "Python 3 (ipykernel)",
   "language": "python",
   "name": "python3"
  },
  "language_info": {
   "codemirror_mode": {
    "name": "ipython",
    "version": 3
   },
   "file_extension": ".py",
   "mimetype": "text/x-python",
   "name": "python",
   "nbconvert_exporter": "python",
   "pygments_lexer": "ipython3",
   "version": "3.10.0"
  }
 },
 "nbformat": 4,
 "nbformat_minor": 5
}
